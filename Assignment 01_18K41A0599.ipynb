{
 "cells": [
  {
   "cell_type": "code",
   "execution_count": 25,
   "metadata": {},
   "outputs": [
    {
     "name": "stdout",
     "output_type": "stream",
     "text": [
      "['Are  you  fascinated  by  the  amount  of  text  data  available  on  the  internet?', 'Are  you \\nlooking  for  ways  to  work  with  this  text  data  but  aren’t  sure  where  to  begin?', 'Machines, after all, recognize numbers, not the letters of our language.', 'And that can \\nbe a tricky landscape to navigate in machine learning.']\n"
     ]
    }
   ],
   "source": [
    "#1. Split the above paragraph into sentences\n",
    "from nltk.tokenize import sent_tokenize\n",
    "text = '''Are  you  fascinated  by  the  amount  of  text  data  available  on  the  internet?  Are  you \n",
    "looking  for  ways  to  work  with  this  text  data  but  aren’t  sure  where  to  begin? \n",
    "Machines, after all, recognize numbers, not the letters of our language. And that can \n",
    "be a tricky landscape to navigate in machine learning.'''\n",
    "print(sent_tokenize(text))"
   ]
  },
  {
   "cell_type": "code",
   "execution_count": 26,
   "metadata": {},
   "outputs": [
    {
     "name": "stdout",
     "output_type": "stream",
     "text": [
      "Are  you  fascinated  by  the  amount  of  text  data  available  on  the  internet?\n",
      "-----\n",
      "Are  you \n",
      "looking  for  ways  to  work  with  this  text  data  but  arenâ€™t  sure  where  to  begin?\n",
      "-----\n",
      "Machines, after all, recognize numbers, not the letters of our language.\n",
      "-----\n",
      "And that can \n",
      "be a tricky landscape to navigate in machine learning.\n"
     ]
    }
   ],
   "source": [
    "#1. Split the above paragraph into sentences\n",
    "#extracting sentences from para method 2 (file para.txt contains paragraph)\n",
    "import nltk.data\n",
    "\n",
    "tokenizer = nltk.data.load('tokenizers/punkt/english.pickle')\n",
    "fp = open(\"para.txt\")\n",
    "data = fp.read()\n",
    "print('\\n-----\\n'.join(tokenizer.tokenize(data)))"
   ]
  },
  {
   "cell_type": "code",
   "execution_count": 27,
   "metadata": {},
   "outputs": [
    {
     "name": "stdout",
     "output_type": "stream",
     "text": [
      "['Are', 'you', 'fascinated', 'by', 'the', 'amount', 'of', 'text', 'data', 'available', 'on', 'the', 'internet', '?', 'Are', 'you', 'looking', 'for', 'ways', 'to', 'work', 'with', 'this', 'text', 'data', 'but', 'aren', '’', 't', 'sure', 'where', 'to', 'begin', '?', 'Machines', ',', 'after', 'all', ',', 'recognize', 'numbers', ',', 'not', 'the', 'letters', 'of', 'our', 'language', '.', 'And', 'that', 'can', 'be', 'a', 'tricky', 'landscape', 'to', 'navigate', 'in', 'machine', 'learning', '.']\n"
     ]
    }
   ],
   "source": [
    "#2. Split the above paragraph into words\n",
    "from nltk.tokenize import word_tokenize\n",
    "text =  '''Are  you  fascinated  by  the  amount  of  text  data  available  on  the  internet?  Are  you \n",
    "looking  for  ways  to  work  with  this  text  data  but  aren’t  sure  where  to  begin? \n",
    "Machines, after all, recognize numbers, not the letters of our language. And that can \n",
    "be a tricky landscape to navigate in machine learning.'''\n",
    "print(word_tokenize(text))"
   ]
  },
  {
   "cell_type": "code",
   "execution_count": 28,
   "metadata": {},
   "outputs": [
    {
     "name": "stdout",
     "output_type": "stream",
     "text": [
      "stemming for :\n",
      "   cats is cat\n",
      "   trouble is troubl\n",
      "   troubling is troubl\n",
      "   troubled is troubl\n",
      "   having is have\n",
      "   Corriendo is corriendo\n",
      "   at is at\n",
      "   was is wa\n"
     ]
    }
   ],
   "source": [
    "#3. Find stem words for the given words?\n",
    "import nltk\n",
    "from nltk.stem.porter import PorterStemmer\n",
    "porter_stemmer  = PorterStemmer()\n",
    "words = ['cats','trouble','troubling','troubled','having','Corriendo','at','was']\n",
    "print(\"stemming for :\")\n",
    "for w in words:\n",
    "    print(\"   {} is {}\".format(w,porter_stemmer.stem(w)))  "
   ]
  },
  {
   "cell_type": "code",
   "execution_count": 29,
   "metadata": {},
   "outputs": [
    {
     "name": "stdout",
     "output_type": "stream",
     "text": [
      "lemma for :\n",
      "   cats is cats\n",
      "   trouble is trouble\n",
      "   troubling is troubling\n",
      "   troubled is troubled\n",
      "   having is having\n",
      "   Corriendo is Corriendo\n",
      "   at is at\n",
      "   was is was\n"
     ]
    }
   ],
   "source": [
    "#3. Find lemma words for the given words?\n",
    "import nltk\n",
    "from nltk.stem import WordNetLemmatizer\n",
    "wordnet_lemmatizer = WordNetLemmatizer()\n",
    "words = ['cats','trouble','troubling','troubled','having','Corriendo','at','was']\n",
    "print(\"lemma for :\")\n",
    "for w in words:\n",
    "    print(\"   {} is {}\".format(w,w, wordnet_lemmatizer.lemmatize(w)))  "
   ]
  },
  {
   "cell_type": "code",
   "execution_count": 30,
   "metadata": {},
   "outputs": [
    {
     "name": "stdout",
     "output_type": "stream",
     "text": [
      "['NLTK', 'library', 'one', 'oldest', 'commonly', 'used', 'Python', 'libraries', 'Natural', 'Language', 'Processing', '.', 'NLTK', 'supports', 'stop', 'word', 'removal', ',', 'find', 'list', 'stop', 'words', 'corpus', 'module', '.', 'To', 'remove', 'stop', 'words', 'sentence', ',', 'divide', 'text', 'words', 'remove', 'word', 'exits', 'list', 'stop', 'words', 'provided', 'NLTK', '.']\n"
     ]
    }
   ],
   "source": [
    "#4. Find stop words from the given paragraph?\n",
    "from nltk.corpus import stopwords\n",
    "from nltk.tokenize import word_tokenize\n",
    " \n",
    "para = '''he NLTK library  is  one  of  the  oldest  and  most  commonly  used  Python  libraries  for \n",
    "Natural Language Processing. NLTK supports stop word removal, and you can find the list \n",
    "of stop words in the  corpus  module. To remove stop words from a sentence, you can divide \n",
    "your text into words and then remove the word if it exits in the list of stop words provided \n",
    "by NLTK.'''\n",
    " \n",
    "stopwords = set(stopwords.words('english'))\n",
    " \n",
    "words = word_tokenize(para)\n",
    " \n",
    "res = [w for w in words if not w.lower() in stopwords]\n",
    " \n",
    "res = []\n",
    " \n",
    "for w in words:\n",
    "    if w not in stopwords:\n",
    "        res.append(w)\n",
    " \n",
    "#print(words)\n",
    "print(res)"
   ]
  },
  {
   "cell_type": "code",
   "execution_count": 31,
   "metadata": {},
   "outputs": [
    {
     "name": "stdout",
     "output_type": "stream",
     "text": [
      "Language: 1\n",
      "NLTK: 3\n",
      "Natural: 1\n",
      "Processing: 1\n",
      "Python: 1\n",
      "commonly: 1\n",
      "corpus: 1\n",
      "divide: 1\n",
      "exits: 1\n",
      "find: 1\n",
      "from: 1\n",
      "into: 1\n",
      "libraries: 1\n",
      "library: 1\n",
      "list: 2\n",
      "module: 1\n",
      "most: 1\n",
      "oldest: 1\n",
      "provided: 1\n",
      "removal: 1\n",
      "remove: 2\n",
      "sentence: 1\n",
      "stop: 4\n",
      "supports: 1\n",
      "text: 1\n",
      "then: 1\n",
      "used: 1\n",
      "word: 2\n",
      "words: 4\n",
      "your: 1\n"
     ]
    },
    {
     "data": {
      "image/png": "[encoded data removed]",
      "text/plain": [
       "<Figure size 432x288 with 1 Axes>"
      ]
     },
     "metadata": {
      "needs_background": "light"
     },
     "output_type": "display_data"
    },
    {
     "data": {
      "text/plain": [
       "<matplotlib.axes._subplots.AxesSubplot at 0x23454d8d3c8>"
      ]
     },
     "execution_count": 31,
     "metadata": {},
     "output_type": "execute_result"
    }
   ],
   "source": [
    "#5. From the above paragraph print frequency of each word using NLTK?import nltk\n",
    "from nltk.corpus import webtext\n",
    "from nltk.probability import FreqDist\n",
    "from nltk.tokenize import word_tokenize\n",
    "\n",
    "para = '''he NLTK library  is  one  of  the  oldest  and  most  commonly  used  Python  libraries  for \n",
    "Natural Language Processing. NLTK supports stop word removal, and you can find the list \n",
    "of stop words in the  corpus  module. To remove stop words from a sentence, you can divide \n",
    "your text into words and then remove the word if it exits in the list of stop words provided \n",
    "by NLTK.'''\n",
    " \n",
    " \n",
    "words = word_tokenize(para)\n",
    "data_analysis = nltk.FreqDist(words)\n",
    "\n",
    "filter_words = dict([(m, n) for m, n in data_analysis.items() if len(m) > 3])\n",
    " \n",
    "for key in sorted(filter_words):\n",
    "    print(\"%s: %s\" % (key, filter_words[key]))\n",
    " \n",
    "data_analysis = nltk.FreqDist(filter_words)\n",
    " \n",
    "data_analysis.plot(25, cumulative=False)"
   ]
  },
  {
   "cell_type": "code",
   "execution_count": null,
   "metadata": {},
   "outputs": [],
   "source": []
  }
 ],
 "metadata": {
  "kernelspec": {
   "display_name": "Python 3",
   "language": "python",
   "name": "python3"
  },
  "language_info": {
   "codemirror_mode": {
    "name": "ipython",
    "version": 3
   },
   "file_extension": ".py",
   "mimetype": "text/x-python",
   "name": "python",
   "nbconvert_exporter": "python",
   "pygments_lexer": "ipython3",
   "version": "3.7.6"
  }
 },
 "nbformat": 4,
 "nbformat_minor": 4
}
